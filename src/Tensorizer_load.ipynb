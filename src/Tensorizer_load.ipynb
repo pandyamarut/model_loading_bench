{
 "cells": [
  {
   "cell_type": "code",
   "execution_count": null,
   "metadata": {},
   "outputs": [],
   "source": [
    "!pip install huggingface_hub transformers accelerate diffusers"
   ]
  },
  {
   "cell_type": "code",
   "execution_count": null,
   "metadata": {},
   "outputs": [],
   "source": [
    "!pip install tensorizer"
   ]
  },
  {
   "cell_type": "code",
   "execution_count": null,
   "metadata": {},
   "outputs": [],
   "source": [
    "import torch\n",
    "from tensorizer import TensorSerializer\n",
    "from transformers import AutoModelForCausalLM\n",
    "\n",
    "model_ref = \"NousResearch/Llama-2-7b-hf\"\n",
    "# For less intensive requirements, swap above with the line below:\n",
    "# model_ref = \"EleutherAI/gpt-neo-125M\"\n",
    "model_name = model_ref.split(\"/\")[-1]\n",
    "# Change this to your S3 bucket.\n",
    "#s3_bucket = \"bucket\"\n",
    "#s3_uri = f\"s3://{s3_bucket}/{model_name}.tensors\"\n",
    "\n",
    "model = AutoModelForCausalLM.from_pretrained(\n",
    "    model_ref,\n",
    "    torch_dtype=torch.float16,\n",
    "    low_cpu_mem_usage=True,\n",
    "    device_map=\"auto\",\n",
    "    use_safetensors=True\n",
    ")\n",
    "\n",
    "serializer = TensorSerializer(\"model1.tensors\")\n",
    "serializer.write_module(model)\n",
    "serializer.close()"
   ]
  },
  {
   "cell_type": "code",
   "execution_count": null,
   "metadata": {},
   "outputs": [],
   "source": [
    "import time\n",
    "import torch\n",
    "from tensorizer import TensorDeserializer\n",
    "from tensorizer.utils import no_init_or_tensor, convert_bytes, get_mem_usage\n",
    "\n",
    "from transformers import AutoModelForCausalLM, AutoTokenizer, AutoConfig\n",
    "\n",
    "model_ref = \"NousResearch/Llama-2-7b-hf\"\n",
    "# To run this at home, swap this with the line below for a smaller example:\n",
    "# model_ref = \"EleutherAI/gpt-neo-125M\"\n",
    "model_name = model_ref.split(\"/\")[-1]\n",
    "# Change this to your S3 bucket.\n",
    "load_loc = \"model1.tensors\"\n",
    "\n",
    "config = AutoConfig.from_pretrained(model_ref)\n",
    "\n",
    "# This ensures that the model is not initialized.\n",
    "with no_init_or_tensor():\n",
    "    model = AutoModelForCausalLM.from_config(config)\n",
    "\n",
    "before_mem = get_mem_usage()\n",
    "\n",
    "# Lazy load the tensors from S3 into the model.\n",
    "start = time.time()\n",
    "deserializer = TensorDeserializer(load_loc, plaid_mode=True)\n",
    "deserializer.load_into_module(model)\n",
    "end = time.time()\n",
    "\n",
    "# Brag about how fast we are.\n",
    "total_bytes_str = convert_bytes(deserializer.total_tensor_bytes)\n",
    "duration = end - start\n",
    "per_second = convert_bytes(deserializer.total_tensor_bytes / duration)\n",
    "after_mem = get_mem_usage()\n",
    "deserializer.close()\n",
    "print(f\"Deserialized {total_bytes_str} in {end - start:0.2f}s, {per_second}/s\")\n",
    "print(f\"Memory usage before: {before_mem}\")\n",
    "print(f\"Memory usage after: {after_mem}\")\n",
    "\n",
    "# Tokenize and generate\n",
    "model.eval()\n",
    "tokenizer = AutoTokenizer.from_pretrained(model_ref)\n",
    "eos = tokenizer.eos_token_id\n",
    "input_ids = tokenizer.encode(\n",
    "    \"Hello, Who is Presindent of USA?\", return_tensors=\"pt\"\n",
    ").to(\"cuda\")\n",
    "\n",
    "with torch.no_grad():\n",
    "    output = model.generate(\n",
    "        input_ids, max_new_tokens=50, do_sample=True, pad_token_id=eos\n",
    "    )\n",
    "\n",
    "print(f\"Output: {tokenizer.decode(output[0], skip_special_tokens=True)}\")"
   ]
  }
 ],
 "metadata": {
  "language_info": {
   "name": "python"
  }
 },
 "nbformat": 4,
 "nbformat_minor": 2
}
